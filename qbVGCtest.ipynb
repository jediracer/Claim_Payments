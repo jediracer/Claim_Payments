{
 "cells": [
  {
   "cell_type": "code",
   "execution_count": 1,
   "metadata": {},
   "outputs": [],
   "source": [
    "# import dependencies\n",
    "import pandas as pd\n",
    "import mysql.connector as mc\n",
    "from datetime import datetime\n",
    "import numpy as np\n",
    "from bs4 import BeautifulSoup as Soup\n",
    "import pdfkit\n",
    "import win32com.client as wc\n",
    "import xml.etree.ElementTree as ET\n",
    "import sys\n",
    "from email.mime.multipart import MIMEMultipart\n",
    "from email.mime.text import MIMEText\n",
    "from email.mime.application import MIMEApplication\n",
    "import ssl\n",
    "import smtplib\n",
    "import os\n",
    "\n",
    "# Get db credentials\n",
    "from configTest import mysql_host, mysql_u, mysql_pw, vgc_host, vgc_u, vgc_pw, smtp_host, e_user, e_pw, port"
   ]
  },
  {
   "cell_type": "code",
   "execution_count": 2,
   "metadata": {},
   "outputs": [],
   "source": [
    "# MySQL\n",
    "def mysql_q (u, p, h, db, sql, cols, commit):\n",
    "    # cols (0 = no, 1 = yes)\n",
    "    # commit (select = 0, insert/update = 1)\n",
    "\n",
    "    # connect to claim_qb_payments db\n",
    "    cnx = mc.connect(user=u, password=p,\n",
    "                    host=h,\n",
    "                    database=db)\n",
    "    cursor = cnx.cursor()\n",
    "\n",
    "    # commit?\n",
    "    if commit == 1:\n",
    "        cursor.execute(sql)\n",
    "        cnx.commit()\n",
    "        sql_result = 0     \n",
    "    else:\n",
    "        cursor.execute(sql)\n",
    "        sql_result = cursor.fetchall()\n",
    "\n",
    "    # columns ?\n",
    "    if cols == 1:\n",
    "        columns=list([x[0] for x in cursor.description])\n",
    "        # close connection\n",
    "        cursor.close()\n",
    "        cnx.close()\n",
    "        # return query result [0] and columns [1]\n",
    "        return sql_result\n",
    "    else:\n",
    "        # close connection\n",
    "        cursor.close()\n",
    "        cnx.close()\n",
    "        # return query result\n",
    "        return sql_result "
   ]
  },
  {
   "cell_type": "code",
   "execution_count": 3,
   "metadata": {},
   "outputs": [],
   "source": [
    "# Email\n",
    "def send_email(toEmail, subject, msg_html, attachPath='', *args):\n",
    "    fromEmail = 'claims@visualgap.com'\n",
    "\n",
    "    # address message\n",
    "    msg = MIMEMultipart()\n",
    "    msg['Subject'] = subject\n",
    "    msg['From'] = fromEmail\n",
    "    msg['To'] = ','.join(toEmail)\n",
    "\n",
    "    # create body\n",
    "    body_html = MIMEText(msg_html, 'html')\n",
    "    msg.attach(body_html) \n",
    "\n",
    "    for arg in args:\n",
    "        fName = ''.join([attachPath, arg])\n",
    "        filename = os.path.abspath(fName)\n",
    "\n",
    "        with open(filename, 'rb') as fn:\n",
    "            attachment = MIMEApplication(fn.read())\n",
    "            attachment.add_header('Content-Disposition', 'attachment', filename=arg)\n",
    "            msg.attach(attachment)\n",
    "\n",
    "    context = ssl.create_default_context()\n",
    "    try:\n",
    "        server = smtplib.SMTP(smtp_host, port)\n",
    "        # check connection\n",
    "        server.ehlo()  \n",
    "        # Secure the connection\n",
    "        server.starttls(context=context)  \n",
    "        # check connection\n",
    "        server.ehlo()\n",
    "        server.login(e_user, e_pw)\n",
    "        # Send email\n",
    "        server.sendmail(fromEmail, toEmail, msg.as_string())\n",
    "\n",
    "    except Exception as e:\n",
    "        # Print any error messages\n",
    "        print(e)\n",
    "    finally:\n",
    "        server.quit()"
   ]
  },
  {
   "cell_type": "code",
   "execution_count": 4,
   "metadata": {},
   "outputs": [],
   "source": [
    "# Define directories\n",
    "attachment_dir = 'S:/claims/letters/attachment/'\n",
    "file_staging_dir = './letters/staging/'\n",
    "\n",
    "now = datetime.now()"
   ]
  },
  {
   "cell_type": "code",
   "execution_count": 5,
   "metadata": {},
   "outputs": [],
   "source": [
    "# Define file paths\n",
    "attach_name = f'Claims_Paid_{now.strftime(\"%Y-%m-%d\")}'\n",
    "attach_file = f'{attachment_dir}{attach_name}'\n",
    "html_file = f'{file_staging_dir}final_rpt.html'\n",
    "err_html_file = f'{file_staging_dir}error.html'\n",
    "csv_file = f'{file_staging_dir}final_rpt.csv'\n",
    "err_csv_file = f'{file_staging_dir}error.csv'\n",
    "template_file = './html/pymt_summary_template.html'\n",
    "html_file2 = './letters/staging/Claims_Paid.html'"
   ]
  },
  {
   "cell_type": "code",
   "execution_count": 6,
   "metadata": {},
   "outputs": [],
   "source": [
    "# sql query to collect qb_txnid's\n",
    "sql = '''\n",
    "      SELECT rtbp_id, check_nbr, qb_txnid\n",
    "      FROM ready_to_be_paid\n",
    "      WHERE toVGC = 1\n",
    "        AND qb_txnid <> '0';\n",
    "      '''"
   ]
  },
  {
   "cell_type": "code",
   "execution_count": 7,
   "metadata": {},
   "outputs": [],
   "source": [
    "# save query results as DF\n",
    "qb_df = pd.DataFrame(mysql_q(mysql_u, mysql_pw, mysql_host, 'claim_qb_payments', sql, 0, 0))\n",
    "\n",
    "# add column names\n",
    "qb_df_cols = ['rtbp_id','check_nbr', 'qb_txnid']\n",
    "qb_df.columns = qb_df_cols"
   ]
  },
  {
   "cell_type": "code",
   "execution_count": 8,
   "metadata": {},
   "outputs": [],
   "source": [
    "# Connect to Quickbooks\n",
    "try:\n",
    "    sessionManager = wc.Dispatch(\"QBXMLRP2.RequestProcessor\")    \n",
    "    sessionManager.OpenConnection('', 'Claim Payments')\n",
    "    ticket = sessionManager.BeginSession(\"\", 2)\n",
    "except Exception as e:\n",
    "    print('''\n",
    "    Make sure QuickBooks is running and you are logged into the Company File.\n",
    "    ERROR: {}'''.format(e))\n",
    "    sys.exit(\"Error with communicating with QuickBooks\")"
   ]
  },
  {
   "cell_type": "code",
   "execution_count": 9,
   "metadata": {},
   "outputs": [],
   "source": [
    "# create qbxml to query qb for check numbers\n",
    "try:\n",
    "    for index, row in qb_df.iterrows():\n",
    "        qbxmlQuery = '''\n",
    "                    <?qbxml version=\"14.0\"?>\n",
    "                    <QBXML>\n",
    "                        <QBXMLMsgsRq onError=\"stopOnError\">\n",
    "                            <CheckQueryRq>\n",
    "                                <TxnID>{txnId}</TxnID> \n",
    "                            </CheckQueryRq>\n",
    "                        </QBXMLMsgsRq>\n",
    "                    </QBXML>\n",
    "                    '''.format(txnId=row['qb_txnid'])\n",
    "\n",
    "        # Send query and receive response\n",
    "        responseString = sessionManager.ProcessRequest(ticket, qbxmlQuery)\n",
    "\n",
    "        # output Check Number (RefNumber)\n",
    "        QBXML = ET.fromstring(responseString)\n",
    "        QBXMLMsgsRs = QBXML.find('QBXMLMsgsRs')\n",
    "        checkResults = QBXMLMsgsRs.iter(\"CheckRet\")\n",
    "        chkNbr = '0'\n",
    "        for checkResult in checkResults:\n",
    "            chkNbr = checkResult.find('RefNumber').text\n",
    "\n",
    "        # Add Check Number to ready_to_be_paid table\n",
    "        qb_sql_file = '''UPDATE ready_to_be_paid\n",
    "                    SET check_nbr = '{ChkNbr}'\n",
    "                    WHERE rtbp_id = {rowID};'''.format(ChkNbr=chkNbr, rowID=row['rtbp_id'])\n",
    "        \n",
    "        # execute and commit sql\n",
    "        mysql_q(mysql_u, mysql_pw, mysql_host, 'claim_qb_payments', qb_sql_file, 0, 1)\n",
    "except Exception as e:\n",
    "    print('''\n",
    "    Make sure to print checks and process ACH in Quickbooks prior to starting this process.\n",
    "    ERROR: {}'''.format(e))\n",
    "    sys.exit(\"Error with communicating with QuickBooks\")"
   ]
  },
  {
   "cell_type": "code",
   "execution_count": 10,
   "metadata": {},
   "outputs": [],
   "source": [
    "# Disconnect from Quickbooks\n",
    "sessionManager.EndSession(ticket)\n",
    "sessionManager.CloseConnection()"
   ]
  },
  {
   "cell_type": "code",
   "execution_count": 11,
   "metadata": {},
   "outputs": [],
   "source": [
    "# sql query for GAP claims that are RTBP\n",
    "sql = '''\n",
    "      SELECT r.rtbp_id, r.claim_id, r.claim_nbr, r.carrier_id, r.lender_name, r.pymt_method, r.first, r.last, r.pymt_type_id, r.amount, r.payment_category_id, r.check_nbr, r.qb_txnid, r.pymt_date, r.toVGC, r.err_msg\n",
    "      FROM ready_to_be_paid r\n",
    "      INNER JOIN (SELECT batch_id\n",
    "                  FROM ready_to_be_paid\n",
    "                  WHERE toVGC = 1\n",
    "                  GROUP BY batch_id) sq\n",
    "      USING(batch_id);\n",
    "      '''"
   ]
  },
  {
   "cell_type": "code",
   "execution_count": 12,
   "metadata": {},
   "outputs": [],
   "source": [
    "# save query results as DF\n",
    "df = pd.DataFrame(mysql_q(mysql_u, mysql_pw, mysql_host, 'claim_qb_payments', sql, 0, 0))"
   ]
  },
  {
   "cell_type": "code",
   "execution_count": 13,
   "metadata": {},
   "outputs": [],
   "source": [
    "# add column names\n",
    "df_cols = ['rtbp_id', 'claim_id', 'claim_nbr', 'carrier_id', 'lender_name', 'pymt_method', 'first', 'last', 'pymt_type_id', 'amount', 'payment_category_id', 'check_nbr', 'qb_txnid', 'pymt_date', 'toVGC', 'err_msg']\n",
    "\n",
    "df.columns = df_cols"
   ]
  },
  {
   "cell_type": "code",
   "execution_count": 14,
   "metadata": {},
   "outputs": [],
   "source": [
    "# Add carrier name\n",
    "sql = '''\n",
    "    SELECT carrier_id, description\n",
    "    FROM carriers;\n",
    "    '''\n",
    "# save query results as DF\n",
    "carrier_df = pd.DataFrame(mysql_q(vgc_u, vgc_pw, vgc_host, 'visualgap_claims', sql, 0, 0))\n",
    "\n",
    "col_names = ['carrier_id', 'carrier']\n",
    "carrier_df.columns = col_names\n",
    "\n",
    "# Merge QB_ListID into df\n",
    "df = df.merge(carrier_df, left_on='carrier_id', right_on='carrier_id').copy()\n"
   ]
  },
  {
   "cell_type": "code",
   "execution_count": 15,
   "metadata": {},
   "outputs": [],
   "source": [
    "# format df\n",
    "# list of conditions\n",
    "type_conds = [((df['payment_category_id'] == 1) & (df['pymt_type_id'] == 1)),\n",
    "              ((df['payment_category_id'] == 1) & (df['pymt_type_id'] == 2)),\n",
    "              ((df['payment_category_id'] == 2) & (df['pymt_type_id'] == 1)),\n",
    "              ((df['payment_category_id'] == 2) & (df['pymt_type_id'] == 2)),\n",
    "              ((df['payment_category_id'] == 3) & (df['pymt_type_id'] == 1)),\n",
    "              ((df['payment_category_id'] == 3) & (df['pymt_type_id'] == 2)),]\n",
    "# list of name types\n",
    "type_name = ['GAP', 'GAP Supp', 'GAP Plus', 'GAP Plus Supp', 'TotalRestart', 'TotalRestart Supp']\n",
    "\n",
    "# add column and assigned values\n",
    "df['Claim_Type'] = np.select(type_conds, type_name)\n"
   ]
  },
  {
   "cell_type": "code",
   "execution_count": 16,
   "metadata": {},
   "outputs": [],
   "source": [
    "# Create df to update VGC\n",
    "# vgc_update_df = df[['claim_id', 'pymt_method', 'pymt_type_id', 'amount', 'payment_category_id', 'check_nbr', 'qb_txnid', 'pymt_date']].copy()"
   ]
  },
  {
   "cell_type": "code",
   "execution_count": 17,
   "metadata": {},
   "outputs": [],
   "source": [
    "# Create df for Claim Payment Summary\n",
    "final_rpt_df = df[['claim_nbr', 'carrier', 'lender_name', 'first', 'last', 'amount', 'pymt_method', 'check_nbr', 'pymt_date', 'Claim_Type']].loc[df['toVGC'] == 1].copy()"
   ]
  },
  {
   "cell_type": "code",
   "execution_count": 18,
   "metadata": {},
   "outputs": [],
   "source": [
    "# Format df\n",
    "final_rpt_df.rename(columns = {'claim_nbr':'Claim Nbr', 'carrier':'Carrier', 'lender_name':'Lender', 'first':'First Name', 'last':'Last Name', 'amount':'Amount', 'pymt_method':'Method',\n",
    "                               'check_nbr':'Check Nbr', 'pymt_date': 'Date', 'Claim_Type':'Claim Type'}, inplace=True)\n",
    "                               \n",
    "final_rpt_df['Amount'] = final_rpt_df['Amount'].map('${:,.2f}'.format)"
   ]
  },
  {
   "cell_type": "code",
   "execution_count": 19,
   "metadata": {},
   "outputs": [],
   "source": [
    "final_rpt_df.sort_values(by = ['Carrier', 'Last Name', 'First Name'], inplace=True)"
   ]
  },
  {
   "cell_type": "code",
   "execution_count": 20,
   "metadata": {},
   "outputs": [],
   "source": [
    "# create error_df\n",
    "error_df = df[['claim_nbr', 'lender_name', 'first', 'last', 'err_msg']].loc[df['toVGC'] == 2].copy()\n",
    "\n",
    "# Format df\n",
    "error_df.rename(columns = {'claim_nbr':'Claim Nbr', 'lender_name':'Lender', 'first':'First Name', 'last':'Last Name', 'err_msg':'Error Message'}, inplace=True)"
   ]
  },
  {
   "cell_type": "code",
   "execution_count": 21,
   "metadata": {},
   "outputs": [
    {
     "data": {
      "text/html": [
       "<div>\n",
       "<style scoped>\n",
       "    .dataframe tbody tr th:only-of-type {\n",
       "        vertical-align: middle;\n",
       "    }\n",
       "\n",
       "    .dataframe tbody tr th {\n",
       "        vertical-align: top;\n",
       "    }\n",
       "\n",
       "    .dataframe thead th {\n",
       "        text-align: right;\n",
       "    }\n",
       "</style>\n",
       "<table border=\"1\" class=\"dataframe\">\n",
       "  <thead>\n",
       "    <tr style=\"text-align: right;\">\n",
       "      <th></th>\n",
       "      <th>Claim Nbr</th>\n",
       "      <th>Lender</th>\n",
       "      <th>First Name</th>\n",
       "      <th>Last Name</th>\n",
       "      <th>Error Message</th>\n",
       "    </tr>\n",
       "  </thead>\n",
       "  <tbody>\n",
       "    <tr>\n",
       "      <th>20</th>\n",
       "      <td>202112272514</td>\n",
       "      <td>Charlotte Metro Credit Union</td>\n",
       "      <td>Supplemental</td>\n",
       "      <td>Letter</td>\n",
       "      <td>No matching CHECKING and-or EXPENSE accounts i...</td>\n",
       "    </tr>\n",
       "  </tbody>\n",
       "</table>\n",
       "</div>"
      ],
      "text/plain": [
       "       Claim Nbr                        Lender    First Name Last Name  \\\n",
       "20  202112272514  Charlotte Metro Credit Union  Supplemental    Letter   \n",
       "\n",
       "                                        Error Message  \n",
       "20  No matching CHECKING and-or EXPENSE accounts i...  "
      ]
     },
     "execution_count": 21,
     "metadata": {},
     "output_type": "execute_result"
    }
   ],
   "source": [
    "error_df"
   ]
  },
  {
   "cell_type": "code",
   "execution_count": 22,
   "metadata": {},
   "outputs": [],
   "source": [
    "# export is df as csv\n",
    "final_rpt_df.to_csv(csv_file, index=False)\n",
    "error_df.to_csv(err_csv_file, index=False)\n",
    "# read in csv\n",
    "csvFile = pd.read_csv(csv_file)\n",
    "errCsvFile = pd.read_csv(err_csv_file)\n",
    "# convert csv to html\n",
    "csvFile.to_html(html_file, index=False)\n",
    "errCsvFile.to_html(err_html_file, index=False)"
   ]
  },
  {
   "cell_type": "code",
   "execution_count": 23,
   "metadata": {},
   "outputs": [],
   "source": [
    "# Get html df\n",
    "soup = Soup(open(html_file), \"html.parser\")\n",
    "err_soup = Soup(open(err_html_file), \"html.parser\")\n",
    "table = str(soup.select_one(\"table\", {\"class\":\"dataframe\"}))\n",
    "err_table = str(err_soup.select_one(\"table\", {\"class\":\"dataframe\"}))\n",
    "\n",
    "# Get template\n",
    "soup2 = Soup(open(template_file), \"html.parser\")\n",
    "# Find and insert payment table\n",
    "df_div = soup2.find(\"div\", {\"id\":\"df\"})\n",
    "df_div.append(Soup(table, 'html.parser'))\n",
    "# Find and insert error table\n",
    "err_div = soup2.find(\"div\", {\"id\":\"error\"})\n",
    "err_div.append(Soup(err_table, 'html.parser'))\n",
    "\n",
    "# write html file\n",
    "with open(html_file2,'w') as file:\n",
    "    file.write(str(soup2))"
   ]
  },
  {
   "cell_type": "code",
   "execution_count": 24,
   "metadata": {},
   "outputs": [],
   "source": [
    "# check if file exists\n",
    "fName = ''.join([attach_file, '.pdf'])\n",
    "fnNum = 0\n",
    "\n",
    "while(os.path.isfile(fName) == True):\n",
    "    fnNum += 1\n",
    "    fName = ''.join([attach_file, '_', str(fnNum), '.pdf']) \n"
   ]
  },
  {
   "cell_type": "code",
   "execution_count": 25,
   "metadata": {},
   "outputs": [
    {
     "data": {
      "text/plain": [
       "True"
      ]
     },
     "execution_count": 25,
     "metadata": {},
     "output_type": "execute_result"
    }
   ],
   "source": [
    "# create PDF from html\n",
    "pdf_options = {'orientation': 'landscape',\n",
    "                'page-size': 'Letter',\n",
    "                'margin-top': '0.25in',\n",
    "                'margin-right': '0.25in',\n",
    "                'margin-bottom': '0.25in',\n",
    "                'margin-left': '0.25in',\n",
    "                'encoding': \"UTF-8\",}\n",
    "                \n",
    "pdfkit.from_file(html_file2, fName, options=pdf_options)"
   ]
  },
  {
   "cell_type": "code",
   "execution_count": 26,
   "metadata": {},
   "outputs": [],
   "source": [
    "# Email Claim Summary Report\n",
    "to = ['jared@visualgap.com']\n",
    "sub = f'Claim Payment Summary {now.strftime(\"%Y-%m-%d\")}'\n",
    "msg_html = '''\n",
    "            <html>\n",
    "            <body>\n",
    "                <p>Attached is the Claim Summary Report.<br>\n",
    "                <br>\n",
    "                Thank you, <br>\n",
    "                Claims Department <br>\n",
    "                <br>\n",
    "                <b>Frost Financial Services, Inc. | VisualGAP <br>\n",
    "                Claims Department <br>\n",
    "                Phone: 888-753-7678 Option 3</b>\n",
    "                </p>\n",
    "            </body>\n",
    "            </html>\n",
    "           '''\n",
    "if fnNum == 0:\n",
    "    a_file = ''.join([attach_name, '.pdf'])\n",
    "else:\n",
    "    a_file = ''.join([attach_name, '_', str(fnNum), '.pdf'])\n",
    "\n",
    "send_email(to, sub, msg_html, attachment_dir, a_file)"
   ]
  },
  {
   "cell_type": "code",
   "execution_count": 27,
   "metadata": {},
   "outputs": [],
   "source": [
    "# Create data file for SCC\n",
    " "
   ]
  },
  {
   "cell_type": "code",
   "execution_count": 28,
   "metadata": {},
   "outputs": [],
   "source": [
    "# Send file to SCC via SFTP"
   ]
  },
  {
   "cell_type": "code",
   "execution_count": 29,
   "metadata": {},
   "outputs": [],
   "source": [
    "# Send Email notification to SCC and Claims\n",
    "to = ['jared@visualgap.com']\n",
    "sub = f'Frost claim file'\n",
    "msg_html = '''\n",
    "            <html>\n",
    "            <body>\n",
    "                <p>Hello,<br>\n",
    "                <br>\n",
    "                We have submitted a new claim file today.  If you have any questions or concerns please contact us. <br>\n",
    "                <br>\n",
    "                Thank you, <br>\n",
    "                Claims Department <br>\n",
    "                <br>\n",
    "                <b>Frost Financial Services, Inc. | VisualGAP <br>\n",
    "                Claims Department <br>\n",
    "                Phone: 888-753-7678 Option 3</b>\n",
    "                </p>\n",
    "            </body>\n",
    "            </html>\n",
    "           '''\n",
    "send_email(to, sub, msg_html)"
   ]
  },
  {
   "cell_type": "code",
   "execution_count": 31,
   "metadata": {},
   "outputs": [],
   "source": [
    "# update toVGC to 3\n",
    "# if len(df) > 0:\n",
    "#     for index, row in df.iterrows():\n",
    "#         err_sql = '''\n",
    "#                 UPDATE ready_to_be_paid\n",
    "#                 SET toVGC = 3\n",
    "#                 WHERE rtbp_id = {rtbp_id};\n",
    "#                 '''.format(rtbp_id=row['rtbp_id'])\n",
    "#         # run update query        \n",
    "#         mysql_q(mysql_u, mysql_pw, mysql_host, 'claim_qb_payments', err_sql, 0, 1)"
   ]
  }
 ],
 "metadata": {
  "interpreter": {
   "hash": "25bbdcee2c7b2635f2af9203b4c23ac3a2ece7544aac2f4db010efbeb60ffe95"
  },
  "kernelspec": {
   "display_name": "Python 3.8.12 ('pyfrost32-dev')",
   "language": "python",
   "name": "python3"
  },
  "language_info": {
   "codemirror_mode": {
    "name": "ipython",
    "version": 3
   },
   "file_extension": ".py",
   "mimetype": "text/x-python",
   "name": "python",
   "nbconvert_exporter": "python",
   "pygments_lexer": "ipython3",
   "version": "3.8.12"
  },
  "orig_nbformat": 4
 },
 "nbformat": 4,
 "nbformat_minor": 2
}
